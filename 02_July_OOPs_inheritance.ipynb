{
  "nbformat": 4,
  "nbformat_minor": 0,
  "metadata": {
    "colab": {
      "provenance": []
    },
    "kernelspec": {
      "name": "python3",
      "display_name": "Python 3"
    },
    "language_info": {
      "name": "python"
    }
  },
  "cells": [
    {
      "cell_type": "markdown",
      "source": [
        "**1. Explain what inheritance is in object-oriented programming and why it is used.**"
      ],
      "metadata": {
        "id": "vu8byklSg7I9"
      }
    },
    {
      "cell_type": "markdown",
      "source": [
        "Solution:Inheritance in object-oriented programming (OOP) is a way to create new classes (subclasses, derived classes, or child classes) that inherit properties and behaviors from existing classes (base classes, superclasses, or parent classes).  Imagine it like a family tree, where child classes inherit traits from parent classes.\n",
        "\n",
        "Here's why inheritance is used:\n",
        "\n",
        "Code Reuse: By inheriting properties and methods, you don't have to rewrite all the code for the subclass. This saves time and effort, especially when you're building complex class hierarchies.\n",
        "Maintainability: If you need to make a change to a common behavior, you only need to modify the base class, and the change will automatically propagate to all subclasses. This makes code easier to maintain and update.\n",
        "Real-World Relationships: Inheritance allows you to model real-world relationships between objects. For example, a Dog class might inherit from an Animal class, sharing common features like moving and eating, while also having unique methods like bark().\n",
        "Here's a simple example:"
      ],
      "metadata": {
        "id": "W27NWu_HhBCa"
      }
    },
    {
      "cell_type": "code",
      "source": [
        "class Animal:\n",
        "  def make_sound(self):\n",
        "    print(\"Generic animal sound\")\n",
        "\n",
        "class Dog(Animal):\n",
        "  def make_sound(self):\n",
        "    print(\"Woof!\")\n",
        "\n",
        "my_animal = Animal()\n",
        "my_dog = Dog()\n",
        "\n",
        "my_animal.make_sound()  # Generic animal sound\n",
        "my_dog.make_sound()      # Woof!\n"
      ],
      "metadata": {
        "colab": {
          "base_uri": "https://localhost:8080/"
        },
        "id": "TPBk2BluhIJQ",
        "outputId": "757aeb59-9cfb-4df6-dfe5-fc46b4f23a02"
      },
      "execution_count": null,
      "outputs": [
        {
          "output_type": "stream",
          "name": "stdout",
          "text": [
            "Generic animal sound\n",
            "Woof!\n"
          ]
        }
      ]
    },
    {
      "cell_type": "markdown",
      "source": [
        "In this example, Dog inherits the make_sound method from Animal, but overrides it with a specific bark behavior.\n",
        "\n",
        "Inheritance is a powerful tool for code organization and promoting reusability in object-oriented programming."
      ],
      "metadata": {
        "id": "th4FJQylhOlL"
      }
    },
    {
      "cell_type": "markdown",
      "source": [
        "**2. Discuss the concept of single inheritance and multiple inheritance, highlighting their differences and advantages.**"
      ],
      "metadata": {
        "id": "DCTfK0UhhP6a"
      }
    },
    {
      "cell_type": "markdown",
      "source": [
        "Solution: Inheritance comes in two main flavors: single inheritance and multiple inheritance. They differ in how a subclass inherits properties and methods from its parent classes.\n",
        "\n",
        "Single Inheritance:\n",
        "\n",
        "A subclass inherits from one base class.\n",
        "Simpler to understand and reason about, leading to less error-prone code.\n",
        "Clearer hierarchy and relationship between classes.\n",
        "More efficient due to less overhead in managing multiple base classes.\n",
        "Multiple Inheritance:\n",
        "\n",
        "A subclass inherits from two or more base classes.\n",
        "Offers greater flexibility for creating classes with features from various sources.\n",
        "Can lead to complexity if base classes have overlapping methods or properties (diamond problem).\n",
        "Requires more careful design to avoid ambiguity and unintended behavior.\n",
        "\n",
        "Advantages of Single Inheritance:\n",
        "\n",
        "Promotes code readability and maintainability.\n",
        "Easier to debug and test due to well-defined class relationships.\n",
        "Well-suited for modeling specialization hierarchies, where a subclass inherits and refines a single concept.\n",
        "Advantages of Multiple Inheritance:\n",
        "\n",
        "Enables code reuse from various functionalities spread across multiple base classes.\n",
        "Useful for modeling objects with characteristics from diverse domains.\n",
        "Offers greater flexibility in class design, but with caution.\n",
        "Choosing Between Them:\n",
        "\n",
        "In most cases, single inheritance is preferred due to its simplicity and clarity.\n",
        "Use multiple inheritance with caution, especially if base classes have overlapping functionalities.\n",
        "Consider alternative design patterns like interfaces or composition (has-a relationship) to achieve similar results without the complexity of multiple inheritance.\n",
        "Example:\n",
        "\n",
        "Single Inheritance: DeliveryVehicle class inherits from Vehicle class, gaining movement functionality and specializing it for deliveries.\n",
        "Multiple Inheritance (potential complexity): FlyingCreature class inherits from Bird class and Insect class, needing careful design to avoid conflicts if both have a fly() method."
      ],
      "metadata": {
        "id": "fdlLHLKHhZO1"
      }
    },
    {
      "cell_type": "markdown",
      "source": [
        "**3. Explain the terms \"base class\" and \"derived class\" in the context of inheritance.**"
      ],
      "metadata": {
        "id": "yQPLJniqhqkp"
      }
    },
    {
      "cell_type": "markdown",
      "source": [
        "Solution: In inheritance, classes are organized in a hierarchical relationship with two key terms: base class and derived class.\n",
        "\n",
        "Base Class (also called parent class or superclass): This is the pre-existing class that serves as the foundation for creating new classes. It defines the properties and methods that can be inherited by its descendants.  Think of it as a blueprint or a parent class in a family tree.\n",
        "\n",
        "Derived Class (also called subclass or child class): This is a new class created from a base class. It inherits the properties and methods from the base class, and can also add its own unique properties and methods. It's like a specialized version of the base class, inheriting traits but potentially having additional functionalities.\n",
        "\n",
        "Here's an analogy:\n",
        "\n",
        "Imagine a base class called Animal. This class might define properties like color, weight, and methods like eat() and sleep(). Now, a derived class called Dog inherits from Animal.  The Dog class inherits the eat() and sleep() methods but also adds its own methods like bark() and wagTail().\n",
        "\n",
        "Here are some key points to remember:\n",
        "\n",
        "A derived class can access and use the inherited members (properties and methods) of the base class.\n",
        "A derived class can override inherited methods to provide its own specialized behavior.\n",
        "A class can only inherit directly from one base class in single inheritance (the most common type). In multiple inheritance (a more complex concept), a class can inherit from multiple base classes.\n",
        "By understanding base and derived classes, you can effectively utilize inheritance to create well-organized and reusable code in object-oriented programming."
      ],
      "metadata": {
        "id": "RHCYMMoOhx9N"
      }
    },
    {
      "cell_type": "markdown",
      "source": [
        "**4. What is the significance of the \"protected\" access modifier in inheritance? How does it differ from \"private\" and \"public\" modifiers?**"
      ],
      "metadata": {
        "id": "WlabpYDBh8cv"
      }
    },
    {
      "cell_type": "markdown",
      "source": [
        "Solution: The protected access modifier in inheritance plays a crucial role in controlling member (property and method) visibility within a class hierarchy. It offers a middle ground between the extremes of private and public access:\n",
        "\n",
        "protected:\n",
        "\n",
        "Members declared as protected are accessible within the class itself, all its subclasses, and within the same package (depending on the programming language).\n",
        "This allows subclasses to inherit and potentially override or extend the functionality of protected members.\n",
        "It promotes code reuse while restricting access from unrelated classes outside the inheritance hierarchy.\n",
        "private:\n",
        "\n",
        "Members declared as private are only accessible within the class itself.\n",
        "Subclasses cannot inherit or access private members directly.\n",
        "This ensures strong encapsulation and data hiding, protecting internal implementation details.\n",
        "public:\n",
        "\n",
        "Members declared as public are accessible from anywhere in the program, including the class itself, subclasses, and unrelated classes.\n",
        "This provides the most unrestricted access but can potentially expose implementation details and reduce control.\n",
        "Significance of protected in Inheritance:\n",
        "\n",
        "Controlled Code Reuse: Subclasses can leverage protected members, enabling them to build upon existing functionality without directly exposing internal details.\n",
        "Implementation Hiding: While providing access to subclasses, protected members prevent external classes from directly modifying or relying on them, promoting better encapsulation.\n",
        "Flexibility in Design: Protected members offer a way to create reusable components within the inheritance hierarchy while maintaining some control over their usage.\n",
        "Example:"
      ],
      "metadata": {
        "id": "2h2vE3HwiHvL"
      }
    },
    {
      "cell_type": "code",
      "source": [
        "class Shape:\n",
        "  def __init__(self, color):  # private constructor, only accessible within Shape class\n",
        "    self.color = color  # private member\n",
        "\n",
        "  def get_color(self):  # public method, accessible anywhere\n",
        "    return self.color\n",
        "\n",
        "class Rectangle(Shape):\n",
        "  def __init__(self, color, width, height):\n",
        "    super().__init__(color)  # call parent class constructor\n",
        "    self.width = width  # public member\n",
        "    self.height = height  # public member\n",
        "\n",
        "  def calculate_area(self):  # public method, uses protected member\n",
        "    return self.width * self.height  # accessing protected member from subclass\n",
        "\n",
        "my_rectangle = Rectangle(\"red\", 5, 10)\n",
        "print(my_rectangle.get_color())  # Public method accessible\n",
        "# print(my_rectangle.color)  # Error: color is private\n",
        "print(my_rectangle.calculate_area())  # Public method using protected member\n"
      ],
      "metadata": {
        "colab": {
          "base_uri": "https://localhost:8080/"
        },
        "id": "8Vd3bCXEiVBV",
        "outputId": "7d2d62dd-70c7-4a89-c613-4872b13ec976"
      },
      "execution_count": null,
      "outputs": [
        {
          "output_type": "stream",
          "name": "stdout",
          "text": [
            "red\n",
            "50\n"
          ]
        }
      ]
    },
    {
      "cell_type": "markdown",
      "source": [
        "In this example, the Shape class has a private constructor (__init__) and a private member (color). The Rectangle class inherits from Shape and can access the get_color method (public) but not the color member directly (private). However, Rectangle can utilize the protected aspect of color within its calculate_area method.\n",
        "\n",
        "By understanding protected access, you can design well-structured and reusable class hierarchies in object-oriented programming."
      ],
      "metadata": {
        "id": "3dVQHBUVijBY"
      }
    },
    {
      "cell_type": "markdown",
      "source": [
        "**5. What is the purpose of the \"super\" keyword in inheritance? Provide an example.**"
      ],
      "metadata": {
        "id": "gagSrHJbitCH"
      }
    },
    {
      "cell_type": "markdown",
      "source": [
        "Solution: The super keyword in inheritance serves two main purposes:\n",
        "\n",
        "Accessing Parent Class Members: It allows you to refer to and potentially override methods and fields defined in the parent class from within the subclass.\n",
        "\n",
        "Calling Parent Class Constructor: It's used to explicitly call the constructor of the parent class from the constructor of the subclass. This ensures proper initialization of inherited members in the subclass.\n",
        "\n",
        "1. Accessing Parent Class Members:\n",
        "\n",
        "Imagine a scenario where a subclass has a method with the same name as a method in its parent class. By default, the subclass method would override the parent's method.\n",
        "If you want to call the parent class method from within the subclass method, you can use super.\n",
        "Example:"
      ],
      "metadata": {
        "id": "hvJ99xbiip3q"
      }
    },
    {
      "cell_type": "code",
      "source": [
        "class Animal:\n",
        "  def make_sound(self):\n",
        "    print(\"Generic animal sound\")\n",
        "\n",
        "class Dog(Animal):\n",
        "  def make_sound(self):\n",
        "    super().make_sound()  # Call parent class method\n",
        "    print(\"Woof!\")\n",
        "\n",
        "my_dog = Dog()\n",
        "my_dog.make_sound()  # Output: Generic animal sound, Woof!\n"
      ],
      "metadata": {
        "colab": {
          "base_uri": "https://localhost:8080/"
        },
        "id": "Fff1aHfIi7ie",
        "outputId": "dfb43d7a-3edb-403b-e0d4-6cdf800cab97"
      },
      "execution_count": null,
      "outputs": [
        {
          "output_type": "stream",
          "name": "stdout",
          "text": [
            "Generic animal sound\n",
            "Woof!\n"
          ]
        }
      ]
    },
    {
      "cell_type": "markdown",
      "source": [
        "In this example, the Dog class overrides the make_sound method. However, it also uses super().make_sound() to call the parent class (Animal) version of the method before printing \"Woof!\".\n",
        "\n",
        "2. Calling Parent Class Constructor:\n",
        "\n",
        "In object-oriented programming, constructors are special methods used to initialize objects.\n",
        "When creating a subclass object, it's often necessary to initialize inherited members from the parent class as well.\n",
        "You use super() to call the parent class constructor from the subclass constructor. This ensures proper initialization in the object creation hierarchy.\n",
        "Example:"
      ],
      "metadata": {
        "id": "Xx-Ua49giyQD"
      }
    },
    {
      "cell_type": "code",
      "source": [
        "class Animal:\n",
        "  def __init__(self, name):\n",
        "    self.name = name\n",
        "\n",
        "class Dog(Animal):\n",
        "  def __init__(self, name, breed):\n",
        "    super().__init__(name)  # Call parent class constructor\n",
        "    self.breed = breed\n",
        "\n",
        "my_dog = Dog(\"Fido\", \"Labrador\")\n",
        "print(my_dog.name)  # Output: Fido\n",
        "print(my_dog.breed)  # Output: Labrador\n"
      ],
      "metadata": {
        "colab": {
          "base_uri": "https://localhost:8080/"
        },
        "id": "ySsrNsqPjFHs",
        "outputId": "1fb7eb40-3ece-4355-aca6-32c7e47f78c5"
      },
      "execution_count": null,
      "outputs": [
        {
          "output_type": "stream",
          "name": "stdout",
          "text": [
            "Fido\n",
            "Labrador\n"
          ]
        }
      ]
    },
    {
      "cell_type": "markdown",
      "source": [
        "Here, the Dog class constructor calls the Animal class constructor using super().__init__(name) to initialize the name attribute. Then, it adds its own breed attribute.\n",
        "\n",
        "By effectively using super, you can achieve proper inheritance behavior and maintain a well-structured class hierarchy in your object-oriented programs."
      ],
      "metadata": {
        "id": "wqwIf-8HjK6d"
      }
    },
    {
      "cell_type": "markdown",
      "source": [
        "**6. Create a base class called \"Vehicle\" with attributes like \"make\", \"model\", and \"year\". Then, create a derived class called \"Car\" that inherits from \"Vehicle\" and adds an attribute called \"fuel_type\". Implement appropriate methods in both classes.**"
      ],
      "metadata": {
        "id": "rIIap8I3jMUX"
      }
    },
    {
      "cell_type": "markdown",
      "source": [
        "Solution: Here's the code for the base class Vehicle and the derived class Car with appropriate methods:"
      ],
      "metadata": {
        "id": "_mbNsRCojS3v"
      }
    },
    {
      "cell_type": "code",
      "source": [
        "class Vehicle:\n",
        "  \"\"\"\n",
        "  This class represents a generic vehicle.\n",
        "  \"\"\"\n",
        "  def __init__(self, make, model, year):\n",
        "    \"\"\"\n",
        "    Initializes a Vehicle object.\n",
        "\n",
        "    Args:\n",
        "      make (str): The make of the vehicle.\n",
        "      model (str): The model of the vehicle.\n",
        "      year (int): The year the vehicle was manufactured.\n",
        "    \"\"\"\n",
        "    self.make = make\n",
        "    self.model = model\n",
        "    self.year = year\n",
        "\n",
        "  def get_info(self):\n",
        "    \"\"\"\n",
        "    Returns a string with information about the vehicle.\n",
        "\n",
        "    Returns:\n",
        "      str: A string containing the make, model, and year of the vehicle.\n",
        "    \"\"\"\n",
        "    return f\"Make: {self.make}, Model: {self.model}, Year: {self.year}\"\n",
        "\n",
        "class Car(Vehicle):\n",
        "  \"\"\"\n",
        "  This class represents a car, which is a derived class of Vehicle.\n",
        "  \"\"\"\n",
        "  def __init__(self, make, model, year, fuel_type):\n",
        "    \"\"\"\n",
        "    Initializes a Car object.\n",
        "\n",
        "    Args:\n",
        "      make (str): The make of the car.\n",
        "      model (str): The model of the car.\n",
        "      year (int): The year the car was manufactured.\n",
        "      fuel_type (str): The type of fuel the car uses (e.g., gasoline, electric).\n",
        "    \"\"\"\n",
        "    super().__init__(make, model, year)  # Call parent class constructor\n",
        "    self.fuel_type = fuel_type\n",
        "\n",
        "  def get_car_info(self):\n",
        "    \"\"\"\n",
        "    Returns a string with information specific to the car, including inherited vehicle information.\n",
        "\n",
        "    Returns:\n",
        "      str: A string containing the make, model, year, and fuel type of the car.\n",
        "    \"\"\"\n",
        "    return f\"{self.get_info()}, Fuel Type: {self.fuel_type}\"\n",
        "\n",
        "# Example usage\n",
        "my_car = Car(\"Toyota\", \"Camry\", 2023, \"Gasoline\")\n",
        "print(my_car.get_car_info())  # Output: Make: Toyota, Model: Camry, Year: 2023, Fuel Type: Gasoline\n"
      ],
      "metadata": {
        "colab": {
          "base_uri": "https://localhost:8080/"
        },
        "id": "jbIRBf02jhZH",
        "outputId": "1e8509bb-1cfd-4814-b7b8-5fdcbbe75423"
      },
      "execution_count": null,
      "outputs": [
        {
          "output_type": "stream",
          "name": "stdout",
          "text": [
            "Make: Toyota, Model: Camry, Year: 2023, Fuel Type: Gasoline\n"
          ]
        }
      ]
    },
    {
      "cell_type": "markdown",
      "source": [
        "This code defines the Vehicle class with attributes make, model, and year. It also includes a get_info method that returns a string with the vehicle information.\n",
        "\n",
        "The Car class inherits from Vehicle and adds a fuel_type attribute. It uses super().__init__(make, model, year) in its constructor to call the parent class constructor and initialize the inherited attributes. Additionally, it defines a get_car_info method that retrieves information from both the Vehicle class and the fuel_type attribute."
      ],
      "metadata": {
        "id": "toqTbZKHjqbp"
      }
    },
    {
      "cell_type": "markdown",
      "source": [
        "**7. Create a base class called \"Employee\" with attributes like \"name\" and \"salary.\" Derive two classes, \"Manager\" and \"Developer,\" from \"Employee.\" Add an additional attribute called \"department\" for the \"Manager\" class and \"programming_language\" for the \"Developer\" class.**"
      ],
      "metadata": {
        "id": "P3H1VbQcjv3x"
      }
    },
    {
      "cell_type": "markdown",
      "source": [
        "Solution: Absolutely, here's the code for the base class Employee and the derived classes Manager and Developer with appropriate attributes:"
      ],
      "metadata": {
        "id": "fpVEkWBTj4J_"
      }
    },
    {
      "cell_type": "code",
      "source": [
        "class Employee:\n",
        "  \"\"\"\n",
        "  This class represents a generic employee.\n",
        "  \"\"\"\n",
        "  def __init__(self, name, salary):\n",
        "    \"\"\"\n",
        "    Initializes an Employee object.\n",
        "\n",
        "    Args:\n",
        "      name (str): The name of the employee.\n",
        "      salary (float): The salary of the employee.\n",
        "    \"\"\"\n",
        "    self.name = name\n",
        "    self.salary = salary\n",
        "\n",
        "  def get_info(self):\n",
        "    \"\"\"\n",
        "    Returns a string with information about the employee.\n",
        "\n",
        "    Returns:\n",
        "      str: A string containing the name and salary of the employee.\n",
        "    \"\"\"\n",
        "    return f\"Name: {self.name}, Salary: ${self.salary:.2f}\"\n",
        "\n",
        "class Manager(Employee):\n",
        "  \"\"\"\n",
        "  This class represents a manager, which is a derived class of Employee.\n",
        "  \"\"\"\n",
        "  def __init__(self, name, salary, department):\n",
        "    \"\"\"\n",
        "    Initializes a Manager object.\n",
        "\n",
        "    Args:\n",
        "      name (str): The name of the manager.\n",
        "      salary (float): The salary of the manager.\n",
        "      department (str): The department the manager leads.\n",
        "    \"\"\"\n",
        "    super().__init__(name, salary)  # Call parent class constructor\n",
        "    self.department = department\n",
        "\n",
        "  def get_info(self):\n",
        "    \"\"\"\n",
        "    Returns a string with information specific to the manager, including inherited employee information.\n",
        "\n",
        "    Returns:\n",
        "      str: A string containing the name, salary, and department of the manager.\n",
        "    \"\"\"\n",
        "    return f\"{super().get_info()}, Department: {self.department}\"\n",
        "\n",
        "class Developer(Employee):\n",
        "  \"\"\"\n",
        "  This class represents a developer, which is a derived class of Employee.\n",
        "  \"\"\"\n",
        "  def __init__(self, name, salary, programming_language):\n",
        "    \"\"\"\n",
        "    Initializes a Developer object.\n",
        "\n",
        "    Args:\n",
        "      name (str): The name of the developer.\n",
        "      salary (float): The salary of the developer.\n",
        "      programming_language (str): The primary programming language the developer uses.\n",
        "    \"\"\"\n",
        "    super().__init__(name, salary)  # Call parent class constructor\n",
        "    self.programming_language = programming_language\n",
        "\n",
        "  def get_info(self):\n",
        "    \"\"\"\n",
        "    Returns a string with information specific to the developer, including inherited employee information.\n",
        "\n",
        "    Returns:\n",
        "      str: A string containing the name, salary, and programming language of the developer.\n",
        "    \"\"\"\n",
        "    return f\"{super().get_info()}, Programming Language: {self.programming_language}\"\n",
        "\n",
        "# Example usage\n",
        "my_manager = Manager(\"Alice\", 80000, \"Engineering\")\n",
        "my_developer = Developer(\"Bob\", 65000, \"Python\")\n",
        "\n",
        "print(my_manager.get_info())  # Output: Name: Alice, Salary: $80000.00, Department: Engineering\n",
        "print(my_developer.get_info())  # Output: Name: Bob, Salary: $65000.00, Programming Language: Python\n"
      ],
      "metadata": {
        "colab": {
          "base_uri": "https://localhost:8080/"
        },
        "id": "Stztbn0LkjUC",
        "outputId": "ee8d31f7-b3a5-4d51-fd8a-58b9a4a6724d"
      },
      "execution_count": null,
      "outputs": [
        {
          "output_type": "stream",
          "name": "stdout",
          "text": [
            "Name: Alice, Salary: $80000.00, Department: Engineering\n",
            "Name: Bob, Salary: $65000.00, Programming Language: Python\n"
          ]
        }
      ]
    },
    {
      "cell_type": "markdown",
      "source": [
        "This code effectively demonstrates inheritance in action:\n",
        "\n",
        "The base class Employee has attributes name and salary, along with a get_info method.\n",
        "The derived class Manager inherits from Employee and adds a department attribute. It uses super().__init__(name, salary) to call the parent class constructor and initialize the inherited attributes. It overrides the get_info method to include department information.\n",
        "The derived class Developer also inherits from Employee and adds a programming_language attribute. It follows the same pattern as Manager for constructor and method overrides."
      ],
      "metadata": {
        "id": "bYEJntQskrNq"
      }
    },
    {
      "cell_type": "markdown",
      "source": [
        "***8. Design a base class called \"Shape\" with attributes like \"colour\" and \"border_width.\" Create derived classes, \"Rectangle\" and \"Circle,\" that inherit from \"Shape\" and add specific attributes like \"length\" and \"width\" for the \"Rectangle\" class and \"radius\" for the \"Circle\" class. ***"
      ],
      "metadata": {
        "id": "gatba8Kz7uVk"
      }
    },
    {
      "cell_type": "code",
      "source": [
        "class Shape:\n",
        "  def __init__(self, colour, border_width):\n",
        "    self.colour = colour\n",
        "    self.border_width = border_width\n",
        "\n",
        "class Rectangle(Shape):\n",
        "  def __init__(self, colour, border_width, length, width):\n",
        "    super().__init__(colour, border_width)\n",
        "    self.length = length\n",
        "    self.width = width\n",
        "\n",
        "class Circle(Shape):\n",
        "  def __init__(self, colour, border_width, radius):\n",
        "    super().__init__(colour, border_width)\n",
        "    self.radius = radius\n",
        "\n",
        "# Example usage\n",
        "rectangle = Rectangle(\"red\", 2, 5, 3)\n",
        "circle = Circle(\"blue\", 1, 4)\n",
        "\n",
        "print(f\"Rectangle colour: {rectangle.colour}, border width: {rectangle.border_width}, length: {rectangle.length}, width: {rectangle.width}\")\n",
        "print(f\"Circle colour: {circle.colour}, border width: {circle.border_width}, radius: {circle.radius}\")\n"
      ],
      "metadata": {
        "colab": {
          "base_uri": "https://localhost:8080/"
        },
        "id": "RmGUDC038DjL",
        "outputId": "4df52704-8176-441c-ebf8-1865856e4f22"
      },
      "execution_count": 1,
      "outputs": [
        {
          "output_type": "stream",
          "name": "stdout",
          "text": [
            "Rectangle colour: red, border width: 2, length: 5, width: 3\n",
            "Circle colour: blue, border width: 1, radius: 4\n"
          ]
        }
      ]
    },
    {
      "cell_type": "markdown",
      "source": [
        "**9. Create a base class called \"Device\" with attributes like \"brand\" and \"model.\" Derive two classes, \"Phone\" and \"Tablet,\" from \"Device.\" Add specific attributes like \"screen_size\" for the \"Phone\" class and \"battery_capacity\" for the \"Tablet\" class**.\n"
      ],
      "metadata": {
        "id": "xQGFztRC8LD0"
      }
    },
    {
      "cell_type": "code",
      "source": [
        "class Device:\n",
        "  def __init__(self, brand, model):\n",
        "    self.brand = brand\n",
        "    self.model = model\n",
        "\n",
        "class Phone(Device):\n",
        "  def __init__(self, brand, model, screen_size):\n",
        "    super().__init__(brand, model)\n",
        "    self.screen_size = screen_size\n",
        "\n",
        "class Tablet(Device):\n",
        "  def __init__(self, brand, model, battery_capacity):\n",
        "    super().__init__(brand, model)\n",
        "    self.battery_capacity = battery_capacity\n",
        "\n",
        "# Example usage\n",
        "phone = Phone(\"Apple\", \"iPhone 14\", 6.1)\n",
        "tablet = Tablet(\"Samsung\", \"Galaxy Tab S8\", 10000)\n",
        "\n",
        "print(f\"Phone brand: {phone.brand}, model: {phone.model}, screen size: {phone.screen_size}\")\n",
        "print(f\"Tablet brand: {tablet.brand}, model: {tablet.model}, battery capacity: {tablet.battery_capacity}\")\n"
      ],
      "metadata": {
        "colab": {
          "base_uri": "https://localhost:8080/"
        },
        "id": "kUo5W1nf8aYn",
        "outputId": "c6b40d7a-76be-4274-f5f8-31e4af85df54"
      },
      "execution_count": 2,
      "outputs": [
        {
          "output_type": "stream",
          "name": "stdout",
          "text": [
            "Phone brand: Apple, model: iPhone 14, screen size: 6.1\n",
            "Tablet brand: Samsung, model: Galaxy Tab S8, battery capacity: 10000\n"
          ]
        }
      ]
    },
    {
      "cell_type": "markdown",
      "source": [
        "***10. Create a base class called \"BankAccount\" with attributes like \"account_number\" and \"balance.\" Derive two classes, \"SavingsAccount\" and \"CheckingAccount,\" from \"BankAccount.\" Add specific methods like \"calculate_interest\" for the \"SavingsAccount\" class and \"deduct_fees\" for the \"CheckingAccount\" class. ***"
      ],
      "metadata": {
        "id": "haIcOpSq8xCE"
      }
    },
    {
      "cell_type": "code",
      "source": [
        "class BankAccount:\n",
        "  def __init__(self, account_number, balance):\n",
        "    self.account_number = account_number\n",
        "    self.balance = balance\n",
        "\n",
        "class SavingsAccount(BankAccount):\n",
        "  def __init__(self, account_number, balance, interest_rate):\n",
        "    super().__init__(account_number, balance)\n",
        "    self.interest_rate = interest_rate\n",
        "\n",
        "  def calculate_interest(self):\n",
        "    interest = self.balance * self.interest_rate\n",
        "    self.balance += interest\n",
        "    print(f\"Interest earned: ${interest:.2f}\")\n",
        "\n",
        "class CheckingAccount(BankAccount):\n",
        "  def __init__(self, account_number, balance, monthly_fee):\n",
        "    super().__init__(account_number, balance)\n",
        "    self.monthly_fee = monthly_fee\n",
        "\n",
        "  def deduct_fees(self):\n",
        "    if self.balance >= self.monthly_fee:\n",
        "      self.balance -= self.monthly_fee\n",
        "      print(f\"Monthly fee deducted: ${self.monthly_fee:.2f}\")\n",
        "    else:\n",
        "      print(f\"Insufficient funds to deduct monthly fee. Current balance: ${self.balance:.2f}\")\n",
        "\n",
        "# Example usage\n",
        "savings_account = SavingsAccount(123456, 1000, 0.01)\n",
        "savings_account.calculate_interest()\n",
        "\n",
        "checking_account = CheckingAccount(654321, 500, 5)\n",
        "checking_account.deduct_fees()\n"
      ],
      "metadata": {
        "colab": {
          "base_uri": "https://localhost:8080/"
        },
        "id": "dvY2QNWN87qP",
        "outputId": "83e8bdd9-7fbd-45fd-89da-923f5846d83c"
      },
      "execution_count": 3,
      "outputs": [
        {
          "output_type": "stream",
          "name": "stdout",
          "text": [
            "Interest earned: $10.00\n",
            "Monthly fee deducted: $5.00\n"
          ]
        }
      ]
    }
  ]
}