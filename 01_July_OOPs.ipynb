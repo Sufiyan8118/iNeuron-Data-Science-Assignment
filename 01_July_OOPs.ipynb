{
  "nbformat": 4,
  "nbformat_minor": 0,
  "metadata": {
    "colab": {
      "provenance": []
    },
    "kernelspec": {
      "name": "python3",
      "display_name": "Python 3"
    },
    "language_info": {
      "name": "python"
    }
  },
  "cells": [
    {
      "cell_type": "markdown",
      "source": [
        "5. What is the difference between class variables and instance variables in Python?\n",
        "Solution: In Python, class variables and instance variables are both used to store data within classes, but they differ in terms of their scope, access, and usage.\n"
      ],
      "metadata": {
        "id": "TOYNVdQCngKe"
      }
    },
    {
      "cell_type": "code",
      "source": [
        "class Person:\n",
        "    # Class Variable\n",
        "    species = \"Human\"\n",
        "\n",
        "    def __init__(self, name):\n",
        "        # Instance Variable\n",
        "        self.name = name\n",
        "\n",
        "# Accessing Class Variable\n",
        "print(Person.species)  # Output: Human\n",
        "\n",
        "# Creating instances\n",
        "person1 = Person(\"Alice\")\n",
        "person2 = Person(\"Bob\")\n",
        "\n",
        "# Accessing Instance Variables\n",
        "print(person1.name)  # Output: Alice\n",
        "print(person2.name)  # Output: Bob\n",
        "\n",
        "# Modifying Instance Variable\n",
        "person1.name = \"Eve\"\n",
        "print(person1.name)  # Output: Eve\n",
        "\n",
        "# Modifying Class Variable\n",
        "Person.species = \"Homo sapiens\"\n",
        "print(person1.species)  # Output: Homo sapiens\n",
        "print(person2.species)  # Output: Homo sapiens"
      ],
      "metadata": {
        "colab": {
          "base_uri": "https://localhost:8080/"
        },
        "id": "gfpWin8gmgKS",
        "outputId": "146e66af-09d2-434a-c7fb-5c22afcbbc15"
      },
      "execution_count": 5,
      "outputs": [
        {
          "output_type": "stream",
          "name": "stdout",
          "text": [
            "Human\n",
            "Alice\n",
            "Bob\n",
            "Eve\n",
            "Homo sapiens\n",
            "Homo sapiens\n"
          ]
        }
      ]
    },
    {
      "cell_type": "markdown",
      "source": [
        "7. For a library management system, you have to design the \"Book\" class with OOP principles in mind. The “Book” class will have following attributes:\n",
        "a. title: Represents the title of the book.\n",
        "b. author: Represents the author(s) of the book.\n",
        "c. isbn: Represents the ISBN (International Standard Book Number) of the book. d. publication_year: Represents the year of publication of the book. e. available_copies: Represents the number of copies available for checkout. The class will also include the following methods:\n",
        "a. check_out(self): Decrements the available copies by one if there are copies available for checkout.\n",
        "b. return_book(self): Increments the available copies by one when a book is returned.\n",
        "c. display_book_info(self): Displays the information about the book, including its attributes and the number of available copies.\n"
      ],
      "metadata": {
        "id": "zmNbnNOXo5GW"
      }
    },
    {
      "cell_type": "code",
      "source": [
        "class Book:\n",
        "    def __init__(self, title, author, isbn, publication_year, available_copies):\n",
        "        self.title = title\n",
        "        self.author = author\n",
        "        self.isbn = isbn\n",
        "        self.publication_year = publication_year\n",
        "        self.available_copies = available_copies\n",
        "\n",
        "    def check_out(self):\n",
        "        if self.available_copies > 0:\n",
        "            self.available_copies -= 1\n",
        "            print(f\"Checked out book '{self.title}'. {self.available_copies} copies available.\")\n",
        "        else:\n",
        "            print(f\"No copies of book '{self.title}' are available for checkout.\")\n",
        "\n",
        "    def return_book(self):\n",
        "        self.available_copies += 1\n",
        "        print(f\"Returned book '{self.title}'. {self.available_copies} copies available.\")\n",
        "\n",
        "    def display_book_info(self):\n",
        "        print(f\"Book Title: {self.title}\")\n",
        "        print(f\"Author(s): {self.author}\")\n",
        "        print(f\"ISBN: {self.isbn}\")\n",
        "        print(f\"Publication Year: {self.publication_year}\")\n",
        "        print(f\"Available Copies: {self.available_copies}\")\n",
        "\n",
        "# Example usage:\n",
        "book1 = Book(\"Harry Potter and the Philosopher's Stone\", \"J.K. Rowling\", \"9780747532699\", 1997, 3)\n",
        "book1.check_out()\n",
        "book1.return_book()\n",
        "book1.display_book_info()"
      ],
      "metadata": {
        "colab": {
          "base_uri": "https://localhost:8080/"
        },
        "id": "A73v6qUmo2WL",
        "outputId": "42f3e9b1-d493-4dc2-f532-21872a84f9e6"
      },
      "execution_count": 6,
      "outputs": [
        {
          "output_type": "stream",
          "name": "stdout",
          "text": [
            "Checked out book 'Harry Potter and the Philosopher's Stone'. 2 copies available.\n",
            "Returned book 'Harry Potter and the Philosopher's Stone'. 3 copies available.\n",
            "Book Title: Harry Potter and the Philosopher's Stone\n",
            "Author(s): J.K. Rowling\n",
            "ISBN: 9780747532699\n",
            "Publication Year: 1997\n",
            "Available Copies: 3\n"
          ]
        }
      ]
    },
    {
      "cell_type": "markdown",
      "source": [
        "8. For a ticket booking system, you have to design the \"Ticket\" class with OOP principles in mind. The “Ticket” class should have the following attributes: a. ticket_id: Represents the unique identifier for the ticket.\n",
        "b. event_name: Represents the name of the event.\n",
        "c. event_date: Represents the date of the event.\n",
        "d. venue: Represents the venue of the event.\n",
        "e. seat_number: Represents the seat number associated with the ticket. f. price: Represents the price of the ticket.\n",
        "g. is_reserved: Represents the reservation status of the ticket.\n",
        "The class also includes the following methods:\n",
        "a. reserve_ticket(self): Marks the ticket as reserved if it is not already reserved. b. cancel_reservation(self): Cancels the reservation of the ticket if it is already reserved.\n",
        "c. display_ticket_info(self): Displays the information about the ticket, including its attributes and reservation status.\n"
      ],
      "metadata": {
        "id": "sQIFdNpfoq61"
      }
    },
    {
      "cell_type": "code",
      "source": [
        "class Ticket:\n",
        "    def __init__(self, ticket_id, event_name, event_date, venue, seat_number, price):\n",
        "        self.ticket_id = ticket_id\n",
        "        self.event_name = event_name\n",
        "        self.event_date = event_date\n",
        "        self.venue = venue\n",
        "        self.seat_number = seat_number\n",
        "        self.price = price\n",
        "        self.is_reserved = False\n",
        "\n",
        "    def reserve_ticket(self):\n",
        "        if not self.is_reserved:\n",
        "            self.is_reserved = True\n",
        "            print(\"Ticket reserved successfully.\")\n",
        "        else:\n",
        "            print(\"Ticket is already reserved.\")\n",
        "\n",
        "    def cancel_reservation(self):\n",
        "        if self.is_reserved:\n",
        "            self.is_reserved = False\n",
        "            print(\"Reservation cancelled successfully.\")\n",
        "        else:\n",
        "            print(\"Ticket is not reserved.\")\n",
        "\n",
        "    def display_ticket_info(self):\n",
        "        print(\"Ticket ID:\", self.ticket_id)\n",
        "        print(\"Event Name:\", self.event_name)\n",
        "        print(\"Event Date:\", self.event_date)\n",
        "        print(\"Venue:\", self.venue)\n",
        "        print(\"Seat Number:\", self.seat_number)\n",
        "        print(\"Price:\", self.price)\n",
        "        print(\"Reservation Status:\", \"Reserved\" if self.is_reserved else \"Not Reserved\")\n",
        "\n",
        "# Example usage\n",
        "ticket = Ticket(1, \"Concert\", \"2022-08-20\", \"Arena\", \"A1\", 100)\n",
        "ticket.display_ticket_info()  # Display initial ticket info\n",
        "ticket.reserve_ticket()  # Reserve the ticket\n",
        "ticket.display_ticket_info()  # Display updated ticket info\n",
        "ticket.cancel_reservation()  # Cancel reservation\n",
        "ticket.display_ticket_info()  # Display updated ticket info"
      ],
      "metadata": {
        "colab": {
          "base_uri": "https://localhost:8080/"
        },
        "id": "6m4qS4nRmbyL",
        "outputId": "f39e88b6-e089-4d95-a464-3efbdd5fa6c3"
      },
      "execution_count": 4,
      "outputs": [
        {
          "output_type": "stream",
          "name": "stdout",
          "text": [
            "Ticket ID: 1\n",
            "Event Name: Concert\n",
            "Event Date: 2022-08-20\n",
            "Venue: Arena\n",
            "Seat Number: A1\n",
            "Price: 100\n",
            "Reservation Status: Not Reserved\n",
            "Ticket reserved successfully.\n",
            "Ticket ID: 1\n",
            "Event Name: Concert\n",
            "Event Date: 2022-08-20\n",
            "Venue: Arena\n",
            "Seat Number: A1\n",
            "Price: 100\n",
            "Reservation Status: Reserved\n",
            "Reservation cancelled successfully.\n",
            "Ticket ID: 1\n",
            "Event Name: Concert\n",
            "Event Date: 2022-08-20\n",
            "Venue: Arena\n",
            "Seat Number: A1\n",
            "Price: 100\n",
            "Reservation Status: Not Reserved\n"
          ]
        }
      ]
    },
    {
      "cell_type": "markdown",
      "source": [
        "9. You are creating a shopping cart for an e-commerce website. Using OOP to model the \"ShoppingCart\" functionality the class should contain following attributes and methods: a. items: Represents the list of items in the shopping cart. The class also includes the following methods: a. add_item(self, item): Adds an item to the shopping cart by appending it to the list of items. b. remove_item(self, item): Removes an item from the shopping cart if it exists in the list. c. view_cart(self): Displays the items currently present in the shopping cart. d. clear_cart(self): Clears all items from the shopping cart by reassigning an empty list to the items attribute."
      ],
      "metadata": {
        "id": "Qg0jK1vhoSik"
      }
    },
    {
      "cell_type": "code",
      "source": [
        "class ShoppingCart:\n",
        "    def __init__(self):\n",
        "        self.items = []\n",
        "\n",
        "    def add_item(self, item):\n",
        "        self.items.append(item)\n",
        "\n",
        "    def remove_item(self, item):\n",
        "        if item in self.items:\n",
        "            self.items.remove(item)\n",
        "        else:\n",
        "            print(\"Item does not exist in the cart.\")\n",
        "\n",
        "    def view_cart(self):\n",
        "        if len(self.items) > 0:\n",
        "            print(\"Items in the shopping cart:\")\n",
        "            for item in self.items:\n",
        "                print(item)\n",
        "        else:\n",
        "            print(\"The shopping cart is empty.\")\n",
        "\n",
        "    def clear_cart(self):\n",
        "        self.items = []\n",
        "\n",
        "# Example usage:\n",
        "cart = ShoppingCart()\n",
        "\n",
        "cart.view_cart()  # The shopping cart is empty.\n",
        "\n",
        "cart.add_item(\"Item1\")\n",
        "cart.add_item(\"Item2\")\n",
        "cart.add_item(\"Item3\")\n",
        "\n",
        "cart.view_cart()\n",
        "# Items in the shopping cart:\n",
        "# Item1\n",
        "# Item2\n",
        "# Item3\n",
        "\n",
        "cart.remove_item(\"Item2\")\n",
        "\n",
        "cart.view_cart()\n",
        "# Items in the shopping cart:\n",
        "# Item1\n",
        "# Item3\n",
        "\n",
        "cart.clear_cart()\n",
        "cart.view_cart()  # The shopping cart is empty."
      ],
      "metadata": {
        "colab": {
          "base_uri": "https://localhost:8080/"
        },
        "id": "NGSS5q9TmXFA",
        "outputId": "61c750ee-b8f8-4bbb-9f05-44d14cac717e"
      },
      "execution_count": 3,
      "outputs": [
        {
          "output_type": "stream",
          "name": "stdout",
          "text": [
            "The shopping cart is empty.\n",
            "Items in the shopping cart:\n",
            "Item1\n",
            "Item2\n",
            "Item3\n",
            "Items in the shopping cart:\n",
            "Item1\n",
            "Item3\n",
            "The shopping cart is empty.\n"
          ]
        }
      ]
    },
    {
      "cell_type": "markdown",
      "source": [
        "10. Imagine a school management system. You have to design the \"Student\" class using OOP concepts. The “Student” class has the following attributes:\n",
        "a. name: Represents the name of the student.\n",
        "b. age: Represents the age of the student.\n",
        "c. grade: Represents the grade or class of the student.\n",
        "d. student_id: Represents the unique identifier for the student.\n",
        "e. attendance: Represents the attendance record of the student.\n",
        "The class should also include the following methods:\n",
        "a. update_attendance(self, date, status): Updates the attendance record of the\n",
        "student for a given date with the provided status (e.g., present or absent).\n",
        "b. get_attendance(self): Returns the attendance record of the student.\n",
        "c. get_average_attendance(self): Calculates and returns the average\n",
        "attendance percentage of the student based on their attendance record.\n"
      ],
      "metadata": {
        "id": "8M7NU9onoZcr"
      }
    },
    {
      "cell_type": "code",
      "execution_count": 1,
      "metadata": {
        "id": "zK2GPS1wl1Uu"
      },
      "outputs": [],
      "source": [
        "class Student:\n",
        "    def __init__(self, name, age, grade, student_id):\n",
        "        self.name = name\n",
        "        self.age = age\n",
        "        self.grade = grade\n",
        "        self.student_id = student_id\n",
        "        self.attendance = {}\n",
        "\n",
        "    def update_attendance(self, date, status):\n",
        "        self.attendance[date] = status\n",
        "\n",
        "    def get_attendance(self):\n",
        "        return self.attendance\n",
        "\n",
        "    def get_average_attendance(self):\n",
        "        total_days = len(self.attendance)\n",
        "        present_days = sum(1 for status in self.attendance.values() if status == 'present')\n",
        "\n",
        "        if total_days > 0:\n",
        "            attendance_percentage = present_days / total_days * 100\n",
        "            return attendance_percentage\n",
        "        else:\n",
        "            return 0"
      ]
    },
    {
      "cell_type": "code",
      "source": [
        "student_1 = Student(\"John Doe\", 15, \"10th\", 12345)\n",
        "student_1.update_attendance(\"2021-01-01\", \"present\")\n",
        "student_1.update_attendance(\"2021-01-02\", \"absent\")\n",
        "student_1.update_attendance(\"2021-01-03\", \"present\")\n",
        "print(student_1.get_attendance())  # {'2021-01-01': 'present', '2021-01-02': 'absent', '2021-01-03': 'present'}\n",
        "print(student_1.get_average_attendance())  # 66.66666666666666"
      ],
      "metadata": {
        "colab": {
          "base_uri": "https://localhost:8080/"
        },
        "id": "-AFsVWS7l5EW",
        "outputId": "37c2208d-cca2-4563-9284-399d303030fc"
      },
      "execution_count": 2,
      "outputs": [
        {
          "output_type": "stream",
          "name": "stdout",
          "text": [
            "{'2021-01-01': 'present', '2021-01-02': 'absent', '2021-01-03': 'present'}\n",
            "66.66666666666666\n"
          ]
        }
      ]
    }
  ]
}